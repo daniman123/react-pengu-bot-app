{
 "cells": [
  {
   "cell_type": "code",
   "execution_count": null,
   "metadata": {},
   "outputs": [],
   "source": [
    "import pandas as pd\n",
    "import json"
   ]
  },
  {
   "cell_type": "code",
   "execution_count": null,
   "metadata": {},
   "outputs": [],
   "source": [
    "import sys\n",
    "sys.path.append(\".\")"
   ]
  },
  {
   "cell_type": "code",
   "execution_count": null,
   "metadata": {},
   "outputs": [],
   "source": [
    "path = \"./lib/data/raw.json\"\n",
    "with open(path,\"r\",encoding=\"UTF-8\") as f:\n",
    "    json = json.load(f)"
   ]
  },
  {
   "cell_type": "code",
   "execution_count": 97,
   "metadata": {},
   "outputs": [],
   "source": [
    "players = json[\"pageProps\"][\"ratingsFilters\"][\"leagues\"]\n",
    "# data = json[\"pageProps\"][\"\"]\n",
    "# players"
   ]
  },
  {
   "cell_type": "code",
   "execution_count": 98,
   "metadata": {},
   "outputs": [],
   "source": [
    "players_df = pd.json_normalize(players)"
   ]
  },
  {
   "cell_type": "code",
   "execution_count": 99,
   "metadata": {},
   "outputs": [
    {
     "name": "stdout",
     "output_type": "stream",
     "text": [
      "Index(['id', 'label', 'teams', 'isPopular', 'region.id', 'region.label',\n",
      "       'gender.id'],\n",
      "      dtype='object')\n"
     ]
    }
   ],
   "source": [
    "print(players_df.columns)\n"
   ]
  },
  {
   "cell_type": "code",
   "execution_count": 100,
   "metadata": {},
   "outputs": [
    {
     "data": {
      "text/html": [
       "<div>\n",
       "<style scoped>\n",
       "    .dataframe tbody tr th:only-of-type {\n",
       "        vertical-align: middle;\n",
       "    }\n",
       "\n",
       "    .dataframe tbody tr th {\n",
       "        vertical-align: top;\n",
       "    }\n",
       "\n",
       "    .dataframe thead th {\n",
       "        text-align: right;\n",
       "    }\n",
       "</style>\n",
       "<table border=\"1\" class=\"dataframe\">\n",
       "  <thead>\n",
       "    <tr style=\"text-align: right;\">\n",
       "      <th></th>\n",
       "      <th>id</th>\n",
       "      <th>label</th>\n",
       "      <th>teams</th>\n",
       "      <th>isPopular</th>\n",
       "      <th>region.id</th>\n",
       "      <th>region.label</th>\n",
       "      <th>gender.id</th>\n",
       "    </tr>\n",
       "  </thead>\n",
       "  <tbody>\n",
       "    <tr>\n",
       "      <th>0</th>\n",
       "      <td>2215</td>\n",
       "      <td>GPFBL</td>\n",
       "      <td>[{'id': 115995, 'label': 'FC Bayern München', ...</td>\n",
       "      <td>True</td>\n",
       "      <td>21</td>\n",
       "      <td>Germany</td>\n",
       "      <td>1</td>\n",
       "    </tr>\n",
       "    <tr>\n",
       "      <th>1</th>\n",
       "      <td>2222</td>\n",
       "      <td>Liga F</td>\n",
       "      <td>[{'id': 116325, 'label': 'FC Barcelona', 'imag...</td>\n",
       "      <td>True</td>\n",
       "      <td>45</td>\n",
       "      <td>Spain</td>\n",
       "      <td>1</td>\n",
       "    </tr>\n",
       "    <tr>\n",
       "      <th>2</th>\n",
       "      <td>2221</td>\n",
       "      <td>NWSL</td>\n",
       "      <td>[{'id': 116300, 'label': 'OL Reign', 'imageUrl...</td>\n",
       "      <td>True</td>\n",
       "      <td>95</td>\n",
       "      <td>United States</td>\n",
       "      <td>1</td>\n",
       "    </tr>\n",
       "    <tr>\n",
       "      <th>3</th>\n",
       "      <td>2216</td>\n",
       "      <td>Barclays WSL</td>\n",
       "      <td>[{'id': 116009, 'label': 'Arsenal', 'imageUrl'...</td>\n",
       "      <td>True</td>\n",
       "      <td>14</td>\n",
       "      <td>England</td>\n",
       "      <td>1</td>\n",
       "    </tr>\n",
       "    <tr>\n",
       "      <th>4</th>\n",
       "      <td>2218</td>\n",
       "      <td>D1 Arkema</td>\n",
       "      <td>[{'id': 116033, 'label': 'OL', 'imageUrl': 'ht...</td>\n",
       "      <td>True</td>\n",
       "      <td>18</td>\n",
       "      <td>France</td>\n",
       "      <td>1</td>\n",
       "    </tr>\n",
       "  </tbody>\n",
       "</table>\n",
       "</div>"
      ],
      "text/plain": [
       "     id         label                                              teams   \n",
       "0  2215         GPFBL  [{'id': 115995, 'label': 'FC Bayern München', ...  \\\n",
       "1  2222        Liga F  [{'id': 116325, 'label': 'FC Barcelona', 'imag...   \n",
       "2  2221          NWSL  [{'id': 116300, 'label': 'OL Reign', 'imageUrl...   \n",
       "3  2216  Barclays WSL  [{'id': 116009, 'label': 'Arsenal', 'imageUrl'...   \n",
       "4  2218     D1 Arkema  [{'id': 116033, 'label': 'OL', 'imageUrl': 'ht...   \n",
       "\n",
       "   isPopular  region.id   region.label  gender.id  \n",
       "0       True         21        Germany          1  \n",
       "1       True         45          Spain          1  \n",
       "2       True         95  United States          1  \n",
       "3       True         14        England          1  \n",
       "4       True         18         France          1  "
      ]
     },
     "execution_count": 100,
     "metadata": {},
     "output_type": "execute_result"
    }
   ],
   "source": [
    "players_df.head()"
   ]
  },
  {
   "cell_type": "code",
   "execution_count": null,
   "metadata": {},
   "outputs": [],
   "source": [
    "# players_df[\"rarity\"].head()"
   ]
  },
  {
   "cell_type": "code",
   "execution_count": 96,
   "metadata": {},
   "outputs": [],
   "source": [
    "path = \"./lib/data/filterData/nationlitiesFilter.json\"\n",
    "players_df[\"label\"].to_json(path, indent=4)"
   ]
  },
  {
   "cell_type": "code",
   "execution_count": null,
   "metadata": {},
   "outputs": [],
   "source": [
    "path = \"./lib/data/filterData/positions.json\"\n",
    "with open(path,\"w\",encoding=\"UTF-8\") as f:\n",
    "    json.dump(leagues, f, indent=4)"
   ]
  }
 ],
 "metadata": {
  "kernelspec": {
   "display_name": "Python 3",
   "language": "python",
   "name": "python3"
  },
  "language_info": {
   "codemirror_mode": {
    "name": "ipython",
    "version": 3
   },
   "file_extension": ".py",
   "mimetype": "text/x-python",
   "name": "python",
   "nbconvert_exporter": "python",
   "pygments_lexer": "ipython3",
   "version": "3.11.3"
  }
 },
 "nbformat": 4,
 "nbformat_minor": 2
}
